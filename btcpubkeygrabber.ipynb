{
 "cells": [
  {
   "cell_type": "code",
   "execution_count": null,
   "metadata": {
    "scrolled": false
   },
   "outputs": [],
   "source": [
    "import requests\n",
    "import csv\n",
    "mylist = []\n",
    "\n",
    "with open('btc_base58.txt', newline='', encoding='utf-8') as f:\n",
    "    for line in f:\n",
    "        mylist.append(line.strip())\n",
    "\n",
    "myfile = open('pubkeys.txt', 'w')\n",
    "\n",
    "for i in range(0,len(mylist)):\n",
    "    address = mylist[i]\n",
    "    link = f\"https://blockchain.info/q/pubkeyaddr/{address}\"\n",
    "    f = requests.get(link)\n",
    "    if(f.text == ''):\n",
    "        pass\n",
    "    else:\n",
    "        myfile.write(\"%s\\n\" % f.text)\n",
    "        print(f.text)\n",
    "\n",
    "myfile.close()"
   ]
  },
  {
   "cell_type": "code",
   "execution_count": null,
   "metadata": {},
   "outputs": [],
   "source": []
  },
  {
   "cell_type": "code",
   "execution_count": null,
   "metadata": {},
   "outputs": [],
   "source": []
  },
  {
   "cell_type": "code",
   "execution_count": null,
   "metadata": {},
   "outputs": [],
   "source": []
  }
 ],
 "metadata": {
  "kernelspec": {
   "display_name": "Python 3",
   "language": "python",
   "name": "python3"
  },
  "language_info": {
   "codemirror_mode": {
    "name": "ipython",
    "version": 3
   },
   "file_extension": ".py",
   "mimetype": "text/x-python",
   "name": "python",
   "nbconvert_exporter": "python",
   "pygments_lexer": "ipython3",
   "version": "3.8.3"
  }
 },
 "nbformat": 4,
 "nbformat_minor": 4
}
